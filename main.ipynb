{
 "cells": [
  {
   "cell_type": "code",
   "execution_count": null,
   "metadata": {},
   "outputs": [],
   "source": [
    "import numpy as np\n",
    "import pandas as pd\n",
    "import matplotlib.pyplot as plt\n",
    "import networkx as nx\n",
    "import contextily\n",
    "\n",
    "import torch\n",
    "import torch.nn as nn\n",
    "import torch.nn.functional as F"
   ]
  },
  {
   "attachments": {},
   "cell_type": "markdown",
   "metadata": {},
   "source": [
    "# Plots"
   ]
  },
  {
   "cell_type": "code",
   "execution_count": null,
   "metadata": {},
   "outputs": [],
   "source": [
    "from torch_geometric_temporal.dataset import METRLADatasetLoader\n",
    "\n",
    "loader = METRLADatasetLoader('data')\n",
    "dataset = loader.get_dataset(num_timesteps_in=12, num_timesteps_out=12)"
   ]
  },
  {
   "cell_type": "code",
   "execution_count": null,
   "metadata": {},
   "outputs": [],
   "source": [
    "graph = nx.Graph()\n",
    "for edge, weight in zip(dataset.edge_index.T, dataset.edge_weight):\n",
    "    graph.add_edge(*edge, weight=weight)\n",
    "graph.remove_edges_from(nx.selfloop_edges(graph))"
   ]
  },
  {
   "cell_type": "code",
   "execution_count": null,
   "metadata": {},
   "outputs": [],
   "source": [
    "locations = pd.read_csv('https://raw.githubusercontent.com/tijsmaas/TrafficPrediction/master/data/metr-la/graph_sensor_locations.csv')\n",
    "locations = locations[['longitude', 'latitude']].to_numpy()"
   ]
  },
  {
   "cell_type": "code",
   "execution_count": null,
   "metadata": {},
   "outputs": [],
   "source": [
    "speed = np.load('data/node_values.npy')\n",
    "speed = speed[:,:,0] # timestamp, sensor, feature[speed, timeofday]"
   ]
  },
  {
   "cell_type": "code",
   "execution_count": null,
   "metadata": {},
   "outputs": [],
   "source": [
    "positions = dict(zip(graph.nodes, locations[graph.nodes]))\n",
    "node_colors = speed[0,:][graph.nodes]\n",
    "edge_colors = [graph[x][y]['weight'] for x,y in graph.edges]\n",
    "\n",
    "fig, ax = plt.subplots(figsize=(10,10))\n",
    "nx.draw(graph, positions, node_color=node_colors, edge_color=edge_colors, edgecolors='black', ax=ax, node_size=50)\n",
    "contextily.add_basemap(ax=ax, crs=4326, source=contextily.providers.Stamen.TonerLite)"
   ]
  },
  {
   "cell_type": "code",
   "execution_count": null,
   "metadata": {},
   "outputs": [],
   "source": [
    "with plt.style.context('default'):\n",
    "    plt.figure(figsize=(10,5))\n",
    "    plt.plot(speed[-200:,6], label='6')\n",
    "    plt.plot(speed[-200:,91], label='91')\n",
    "    plt.plot(speed[-200:,93], label='93')\n",
    "    plt.plot(speed[-200:,136], label='136')\n",
    "    plt.legend()\n",
    "    plt.title('Sensor data of adjacent nodes')"
   ]
  },
  {
   "cell_type": "code",
   "execution_count": null,
   "metadata": {},
   "outputs": [],
   "source": [
    "adjacency = np.load('data/adj_mat.npy')"
   ]
  },
  {
   "cell_type": "code",
   "execution_count": null,
   "metadata": {},
   "outputs": [],
   "source": [
    "fig, ax = plt.subplots(figsize=(5,5))\n",
    "ax.pcolormesh(adjacency[::-1,:])\n",
    "ax.set_aspect('equal')"
   ]
  },
  {
   "attachments": {},
   "cell_type": "markdown",
   "metadata": {},
   "source": [
    "# Model training"
   ]
  },
  {
   "cell_type": "code",
   "execution_count": null,
   "metadata": {},
   "outputs": [],
   "source": [
    "import pytorch_lightning as pl\n",
    "from pytorch_lightning.callbacks import LearningRateMonitor, ModelCheckpoint\n",
    "from pytorch_lightning.loggers import CSVLogger\n",
    "from src import METRLADataModule, TemporalGNN\n",
    "from src.printer import PrintMetricsCallback\n",
    "from src.utils import read_logs"
   ]
  },
  {
   "cell_type": "code",
   "execution_count": null,
   "metadata": {},
   "outputs": [],
   "source": [
    "import warnings\n",
    "warnings.filterwarnings('ignore', '.*does not have many workers.*')"
   ]
  },
  {
   "cell_type": "code",
   "execution_count": null,
   "metadata": {},
   "outputs": [],
   "source": [
    "data = METRLADataModule(root_dir='data', train_steps=12, predict_steps=12, num_workers=0, batch_size=16)\n",
    "model = TemporalGNN(in_features=2, hidden_features=64)"
   ]
  },
  {
   "cell_type": "code",
   "execution_count": null,
   "metadata": {},
   "outputs": [],
   "source": [
    "best_checkpointer = ModelCheckpoint(\n",
    "    save_top_k=1, save_last=True, monitor='val_loss', mode='max', filename='best')\n",
    "csv_logger = CSVLogger('')\n",
    "printer = PrintMetricsCallback(\n",
    "    metrics=['val_loss', 'train_loss'])\n",
    "\n",
    "trainer = pl.Trainer(\n",
    "    log_every_n_steps=1,\n",
    "    logger=csv_logger,\n",
    "    callbacks=[best_checkpointer, printer],\n",
    "    max_epochs=10,\n",
    "    accelerator='auto',\n",
    "    devices=1)"
   ]
  },
  {
   "cell_type": "code",
   "execution_count": null,
   "metadata": {},
   "outputs": [],
   "source": [
    "trainer.fit(model, data)"
   ]
  },
  {
   "cell_type": "code",
   "execution_count": null,
   "metadata": {},
   "outputs": [],
   "source": [
    "logs = read_logs('lightning_logs/version_9/metrics.csv')\n",
    "plt.plot(logs['train_loss_step'])"
   ]
  }
 ],
 "metadata": {
  "kernelspec": {
   "display_name": ".venv",
   "language": "python",
   "name": "python3"
  },
  "language_info": {
   "codemirror_mode": {
    "name": "ipython",
    "version": 3
   },
   "file_extension": ".py",
   "mimetype": "text/x-python",
   "name": "python",
   "nbconvert_exporter": "python",
   "pygments_lexer": "ipython3",
   "version": "3.9.4"
  },
  "orig_nbformat": 4,
  "vscode": {
   "interpreter": {
    "hash": "48e34def11d13491aca4ae4a790e3944baa0d6ea5f6145dca2899ab25bfee368"
   }
  }
 },
 "nbformat": 4,
 "nbformat_minor": 2
}
